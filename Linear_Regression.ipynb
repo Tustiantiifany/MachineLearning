{
  "nbformat": 4,
  "nbformat_minor": 0,
  "metadata": {
    "colab": {
      "name": "Linear-Regression.ipynb",
      "provenance": [],
      "collapsed_sections": [],
      "authorship_tag": "ABX9TyOchgjj1T49ff9E5Zu6/X1a",
      "include_colab_link": true
    },
    "kernelspec": {
      "name": "python3",
      "display_name": "Python 3"
    },
    "language_info": {
      "name": "python"
    }
  },
  "cells": [
    {
      "cell_type": "markdown",
      "metadata": {
        "id": "view-in-github",
        "colab_type": "text"
      },
      "source": [
        "<a href=\"https://colab.research.google.com/github/Tustiantiifany/MachineLearning/blob/main/Linear_Regression.ipynb\" target=\"_parent\"><img src=\"https://colab.research.google.com/assets/colab-badge.svg\" alt=\"Open In Colab\"/></a>"
      ]
    },
    {
      "cell_type": "markdown",
      "source": [
        "# UTS Pembelajaran Mesin\n",
        "\n",
        "\n",
        "<br>NIM   : 1197050049\n",
        "<br>Nama  : Ifany Dewi Tustianti\n",
        "<br>Kelas : D "
      ],
      "metadata": {
        "id": "QxnfF8IVb-MK"
      }
    },
    {
      "cell_type": "markdown",
      "source": [
        "# Topik mini riset\n",
        "\n",
        "Implementasi algoritma regresi linear untuk menentukan hubungan antara angka obesitas dengan banyaknya kasus kematian"
      ],
      "metadata": {
        "id": "2wApzvYPb-Go"
      }
    },
    {
      "cell_type": "markdown",
      "source": [
        "# Business Understanding\n",
        "**Latar belakang masalah**\n",
        "<br>Angka obesitas terus meningkat. Hal tersebut disebabkan karena perubahan aktivitas fisik dan meningkatnya konsumsi makanan dengan kalori yang tinggi juga makann dengan kandungan gula, garam, dan lemak yang tinggi. hal ini disebabkan pula oleh kemudahan akses pembelian makanan di berbagai platform e-commerce sehingga masyarakat semakin malas untuk keluar rumah bahkan beraktivitas fisik ditambah lagi dengan diberlakukannya kuliah daring juga *work from home*.\n",
        "\n",
        "<br>**Identifikasi Masalah**\n",
        "*   Masalah kesehatan yang disebabkan akibat pandemi\n",
        "*   Tinggi nya kasus obesitas\n",
        "*   Tingginya kasus kematian yang disebabkan oleh kasus obesitas\n",
        "\n",
        "<br>**Metode/ Pendekatan Penyelesaian Masalah**\n",
        "<br>\n",
        "\n",
        "*   Merumuskan masalah\n",
        "*   Menelaah masalah\n",
        "*   Menghimpun dan mengelompokkan data\n",
        "*   Pembuktian hipotesis\n",
        "*  Menentukan pilihan pemecahan masalah dan keputusan\n",
        "\n",
        "<br>**Tujuan Teknis**\n",
        "<br>Tujuan teknis dari mini riset ini adalah sebagai indikator hubungan antara tingginya angka obesitas dengan tingkat kematian untuk untuk selanjutnya bisa dijadikan sebagai bahan acuan perbaikan sistem kesehatan kedepannya.\n",
        "\n",
        "<br>**Timeline Miniriset**\n",
        "*   mencari permasalahan\n",
        "*   mempersiapkan perumusan masalah\n",
        "*   Pencarian Data\n",
        "*   Persiapan Data\n",
        "*   Pemrosesan data\n",
        "*   Penentuan hasil akhir riset\n",
        "\n",
        "\n"
      ],
      "metadata": {
        "id": "MGvL-oAob9y4"
      }
    },
    {
      "cell_type": "markdown",
      "source": [
        "# Data Understanding\n",
        " \n",
        " mini riset ini dilakukan dengan data yang diambil dari kaggle yang secara keseluruhan dataset ini berisi rincian mengenai kandungan lemak dari berbagai jenis makanan yang dapat memicu obesitas. dataset ini terdiri dari 32 column dengan rincian sebagai berikut :\n",
        "\n",
        "Country : Representasi dari Negara                     \n",
        "Alcoholic Beverages : representasi dari persentase lemak pada minuman beralkohol\n",
        "Animal Products : representasi dari persentase lemak pada makanan olahan hewan         \n",
        "Animal fats: representasi dari persentase lemak pada lemak hewani                     \n",
        "Aquatic Products, Other: representasi dari persentase lemak pada produk akuatik        \n",
        "Cereals - Excluding Beer : : representasi dari persentase lemak pada sereal        \n",
        "Eggs  : representasi dari persentase lemak pada telur                          \n",
        "Fish, Seafood : representasi dari persentase lemak pada makanan laut dan ikan\n",
        "Fruits - Excluding Wine : representasi dari persentase lemak pada buah buahan\n",
        "Meat : representasi dari persentase lemak pada daging                            \n",
        "Miscellaneous                   \n",
        "Milk - Excluding Butter : representasi dari persentase lemak pada susu        \n",
        "Offals : representasi dari persentase lemak pada jeroan                        \n",
        "Oilcrops : representasi dari persentase lemak pada tanaman minyak                      \n",
        "Pulses                           \n",
        "Spices : representasi dari persentase lemak pada rempah rempah                        \n",
        "Starchy Roots : representasi dari persentase lemak pada tanaman umbi umbian                   \n",
        "Stimulants : representasi dari persentase lemak pada stimulan                      \n",
        "Sugar Crops : representasi dari persentase lemak pada tanaman yang banyak mengandung gula                     \n",
        "Sugar & Sweeteners : representasi dari persentase lemak pada gula              \n",
        "Treenuts : representasi dari persentase lemak pada kacang kacangan\n",
        "Vegetal Products : representasi dari persentase lemak pada produk olahan sayuran\n",
        "Vegetable Oils : representasi dari persentase lemak pada minyak yang berasal dari tanaman\n",
        "Vegetables  : representasi dari persentase lemak pada sayuran                    \n",
        "Obesity : persentasi kegemukan di dunia berdasarkan negara                         \n",
        "Undernourished : presentasi masyarakat yang kekurangan gizi               \n",
        "Confirmed : kasus terkonfrmasi\n",
        "Deaths : Kasus kematian                          \n",
        "Recovered  : kasus pulih                    \n",
        "Active : kasus aktif        \n",
        "Population : popuasi jumlah penduduk            \n",
        "Unit : presentasi  \n",
        "\n",
        "yang dipakai hanya kolom obesity dan deaths sehingga kolom yang lain tidak digunakan.\n",
        "\n"
      ],
      "metadata": {
        "id": "CzB1z9m3iAdT"
      }
    },
    {
      "cell_type": "markdown",
      "source": [
        "# Data Preparation"
      ],
      "metadata": {
        "id": "24j0RYIhqdBX"
      }
    },
    {
      "cell_type": "code",
      "source": [
        "#import library dan package yang dibutuhkan\n",
        "import numpy as np\n",
        "import pandas as pd\n",
        "import matplotlib.pyplot as plt\n",
        "% matplotlib inline"
      ],
      "metadata": {
        "id": "pIHnP0_FYHm7"
      },
      "execution_count": 76,
      "outputs": []
    },
    {
      "cell_type": "code",
      "execution_count": 78,
      "metadata": {
        "colab": {
          "base_uri": "https://localhost:8080/",
          "height": 0
        },
        "id": "nD2eLbLjX7eH",
        "outputId": "9990c84c-54af-4c08-ce2c-4b8578e6f658"
      },
      "outputs": [
        {
          "output_type": "stream",
          "name": "stdout",
          "text": [
            "Drive already mounted at /content/gdrive; to attempt to forcibly remount, call drive.mount(\"/content/gdrive\", force_remount=True).\n"
          ]
        }
      ],
      "source": [
        "#koneksi google collab dengan google drive\n",
        "from google.colab import drive \n",
        "drive.mount(\"/content/gdrive\")"
      ]
    },
    {
      "cell_type": "code",
      "source": [
        "#mengimport dataset kita ke dalam varabel df\n",
        "df=pd.read_csv('/content/gdrive/MyDrive/CSV/healthy_diet.csv')"
      ],
      "metadata": {
        "id": "EALY3m06YRuf"
      },
      "execution_count": 80,
      "outputs": []
    },
    {
      "cell_type": "code",
      "source": [
        "df.head()"
      ],
      "metadata": {
        "colab": {
          "base_uri": "https://localhost:8080/",
          "height": 368
        },
        "id": "5V1UpVWfnAyv",
        "outputId": "394ad1b8-cfbf-4329-f253-5b5eae08e27b"
      },
      "execution_count": 81,
      "outputs": [
        {
          "output_type": "execute_result",
          "data": {
            "text/plain": [
              "               Country  Alcoholic Beverages  Animal Products  Animal fats  \\\n",
              "0          Afghanistan                  0.0          21.6397       6.2224   \n",
              "1              Albania                  0.0          32.0002       3.4172   \n",
              "2              Algeria                  0.0          14.4175       0.8972   \n",
              "3               Angola                  0.0          15.3041       1.3130   \n",
              "4  Antigua and Barbuda                  0.0          27.7033       4.6686   \n",
              "\n",
              "   Aquatic Products, Other  Cereals - Excluding Beer    Eggs  Fish, Seafood  \\\n",
              "0                      0.0                    8.0353  0.6859         0.0327   \n",
              "1                      0.0                    2.6734  1.6448         0.1445   \n",
              "2                      0.0                    4.2035  1.2171         0.2008   \n",
              "3                      0.0                    6.5545  0.1539         1.4155   \n",
              "4                      0.0                    3.2153  0.3872         1.5263   \n",
              "\n",
              "   Fruits - Excluding Wine     Meat  ...  Vegetable Oils  Vegetables  Obesity  \\\n",
              "0                   0.4246   6.1244  ...         17.0831      0.3593      4.5   \n",
              "1                   0.6418   8.7428  ...          9.2443      0.6503     22.3   \n",
              "2                   0.5772   3.8961  ...         27.3606      0.5145     26.6   \n",
              "3                   0.3488  11.0268  ...         22.4638      0.1231      6.8   \n",
              "4                   1.2177  14.3202  ...         14.4436      0.2469     19.1   \n",
              "\n",
              "   Undernourished  Confirmed    Deaths  Recovered    Active  Population  \\\n",
              "0            29.8   0.142134  0.006186   0.123374  0.012574  38928000.0   \n",
              "1             6.2   2.967301  0.050951   1.792636  1.123714   2838000.0   \n",
              "2             3.9   0.244897  0.006558   0.167572  0.070767  44357000.0   \n",
              "3              25   0.061687  0.001461   0.056808  0.003419  32522000.0   \n",
              "4             NaN   0.293878  0.007143   0.190816  0.095918     98000.0   \n",
              "\n",
              "   Unit (all except Population)  \n",
              "0                             %  \n",
              "1                             %  \n",
              "2                             %  \n",
              "3                             %  \n",
              "4                             %  \n",
              "\n",
              "[5 rows x 32 columns]"
            ],
            "text/html": [
              "\n",
              "  <div id=\"df-79f01ce9-d4f6-400a-9407-dcc8367e54cc\">\n",
              "    <div class=\"colab-df-container\">\n",
              "      <div>\n",
              "<style scoped>\n",
              "    .dataframe tbody tr th:only-of-type {\n",
              "        vertical-align: middle;\n",
              "    }\n",
              "\n",
              "    .dataframe tbody tr th {\n",
              "        vertical-align: top;\n",
              "    }\n",
              "\n",
              "    .dataframe thead th {\n",
              "        text-align: right;\n",
              "    }\n",
              "</style>\n",
              "<table border=\"1\" class=\"dataframe\">\n",
              "  <thead>\n",
              "    <tr style=\"text-align: right;\">\n",
              "      <th></th>\n",
              "      <th>Country</th>\n",
              "      <th>Alcoholic Beverages</th>\n",
              "      <th>Animal Products</th>\n",
              "      <th>Animal fats</th>\n",
              "      <th>Aquatic Products, Other</th>\n",
              "      <th>Cereals - Excluding Beer</th>\n",
              "      <th>Eggs</th>\n",
              "      <th>Fish, Seafood</th>\n",
              "      <th>Fruits - Excluding Wine</th>\n",
              "      <th>Meat</th>\n",
              "      <th>...</th>\n",
              "      <th>Vegetable Oils</th>\n",
              "      <th>Vegetables</th>\n",
              "      <th>Obesity</th>\n",
              "      <th>Undernourished</th>\n",
              "      <th>Confirmed</th>\n",
              "      <th>Deaths</th>\n",
              "      <th>Recovered</th>\n",
              "      <th>Active</th>\n",
              "      <th>Population</th>\n",
              "      <th>Unit (all except Population)</th>\n",
              "    </tr>\n",
              "  </thead>\n",
              "  <tbody>\n",
              "    <tr>\n",
              "      <th>0</th>\n",
              "      <td>Afghanistan</td>\n",
              "      <td>0.0</td>\n",
              "      <td>21.6397</td>\n",
              "      <td>6.2224</td>\n",
              "      <td>0.0</td>\n",
              "      <td>8.0353</td>\n",
              "      <td>0.6859</td>\n",
              "      <td>0.0327</td>\n",
              "      <td>0.4246</td>\n",
              "      <td>6.1244</td>\n",
              "      <td>...</td>\n",
              "      <td>17.0831</td>\n",
              "      <td>0.3593</td>\n",
              "      <td>4.5</td>\n",
              "      <td>29.8</td>\n",
              "      <td>0.142134</td>\n",
              "      <td>0.006186</td>\n",
              "      <td>0.123374</td>\n",
              "      <td>0.012574</td>\n",
              "      <td>38928000.0</td>\n",
              "      <td>%</td>\n",
              "    </tr>\n",
              "    <tr>\n",
              "      <th>1</th>\n",
              "      <td>Albania</td>\n",
              "      <td>0.0</td>\n",
              "      <td>32.0002</td>\n",
              "      <td>3.4172</td>\n",
              "      <td>0.0</td>\n",
              "      <td>2.6734</td>\n",
              "      <td>1.6448</td>\n",
              "      <td>0.1445</td>\n",
              "      <td>0.6418</td>\n",
              "      <td>8.7428</td>\n",
              "      <td>...</td>\n",
              "      <td>9.2443</td>\n",
              "      <td>0.6503</td>\n",
              "      <td>22.3</td>\n",
              "      <td>6.2</td>\n",
              "      <td>2.967301</td>\n",
              "      <td>0.050951</td>\n",
              "      <td>1.792636</td>\n",
              "      <td>1.123714</td>\n",
              "      <td>2838000.0</td>\n",
              "      <td>%</td>\n",
              "    </tr>\n",
              "    <tr>\n",
              "      <th>2</th>\n",
              "      <td>Algeria</td>\n",
              "      <td>0.0</td>\n",
              "      <td>14.4175</td>\n",
              "      <td>0.8972</td>\n",
              "      <td>0.0</td>\n",
              "      <td>4.2035</td>\n",
              "      <td>1.2171</td>\n",
              "      <td>0.2008</td>\n",
              "      <td>0.5772</td>\n",
              "      <td>3.8961</td>\n",
              "      <td>...</td>\n",
              "      <td>27.3606</td>\n",
              "      <td>0.5145</td>\n",
              "      <td>26.6</td>\n",
              "      <td>3.9</td>\n",
              "      <td>0.244897</td>\n",
              "      <td>0.006558</td>\n",
              "      <td>0.167572</td>\n",
              "      <td>0.070767</td>\n",
              "      <td>44357000.0</td>\n",
              "      <td>%</td>\n",
              "    </tr>\n",
              "    <tr>\n",
              "      <th>3</th>\n",
              "      <td>Angola</td>\n",
              "      <td>0.0</td>\n",
              "      <td>15.3041</td>\n",
              "      <td>1.3130</td>\n",
              "      <td>0.0</td>\n",
              "      <td>6.5545</td>\n",
              "      <td>0.1539</td>\n",
              "      <td>1.4155</td>\n",
              "      <td>0.3488</td>\n",
              "      <td>11.0268</td>\n",
              "      <td>...</td>\n",
              "      <td>22.4638</td>\n",
              "      <td>0.1231</td>\n",
              "      <td>6.8</td>\n",
              "      <td>25</td>\n",
              "      <td>0.061687</td>\n",
              "      <td>0.001461</td>\n",
              "      <td>0.056808</td>\n",
              "      <td>0.003419</td>\n",
              "      <td>32522000.0</td>\n",
              "      <td>%</td>\n",
              "    </tr>\n",
              "    <tr>\n",
              "      <th>4</th>\n",
              "      <td>Antigua and Barbuda</td>\n",
              "      <td>0.0</td>\n",
              "      <td>27.7033</td>\n",
              "      <td>4.6686</td>\n",
              "      <td>0.0</td>\n",
              "      <td>3.2153</td>\n",
              "      <td>0.3872</td>\n",
              "      <td>1.5263</td>\n",
              "      <td>1.2177</td>\n",
              "      <td>14.3202</td>\n",
              "      <td>...</td>\n",
              "      <td>14.4436</td>\n",
              "      <td>0.2469</td>\n",
              "      <td>19.1</td>\n",
              "      <td>NaN</td>\n",
              "      <td>0.293878</td>\n",
              "      <td>0.007143</td>\n",
              "      <td>0.190816</td>\n",
              "      <td>0.095918</td>\n",
              "      <td>98000.0</td>\n",
              "      <td>%</td>\n",
              "    </tr>\n",
              "  </tbody>\n",
              "</table>\n",
              "<p>5 rows × 32 columns</p>\n",
              "</div>\n",
              "      <button class=\"colab-df-convert\" onclick=\"convertToInteractive('df-79f01ce9-d4f6-400a-9407-dcc8367e54cc')\"\n",
              "              title=\"Convert this dataframe to an interactive table.\"\n",
              "              style=\"display:none;\">\n",
              "        \n",
              "  <svg xmlns=\"http://www.w3.org/2000/svg\" height=\"24px\"viewBox=\"0 0 24 24\"\n",
              "       width=\"24px\">\n",
              "    <path d=\"M0 0h24v24H0V0z\" fill=\"none\"/>\n",
              "    <path d=\"M18.56 5.44l.94 2.06.94-2.06 2.06-.94-2.06-.94-.94-2.06-.94 2.06-2.06.94zm-11 1L8.5 8.5l.94-2.06 2.06-.94-2.06-.94L8.5 2.5l-.94 2.06-2.06.94zm10 10l.94 2.06.94-2.06 2.06-.94-2.06-.94-.94-2.06-.94 2.06-2.06.94z\"/><path d=\"M17.41 7.96l-1.37-1.37c-.4-.4-.92-.59-1.43-.59-.52 0-1.04.2-1.43.59L10.3 9.45l-7.72 7.72c-.78.78-.78 2.05 0 2.83L4 21.41c.39.39.9.59 1.41.59.51 0 1.02-.2 1.41-.59l7.78-7.78 2.81-2.81c.8-.78.8-2.07 0-2.86zM5.41 20L4 18.59l7.72-7.72 1.47 1.35L5.41 20z\"/>\n",
              "  </svg>\n",
              "      </button>\n",
              "      \n",
              "  <style>\n",
              "    .colab-df-container {\n",
              "      display:flex;\n",
              "      flex-wrap:wrap;\n",
              "      gap: 12px;\n",
              "    }\n",
              "\n",
              "    .colab-df-convert {\n",
              "      background-color: #E8F0FE;\n",
              "      border: none;\n",
              "      border-radius: 50%;\n",
              "      cursor: pointer;\n",
              "      display: none;\n",
              "      fill: #1967D2;\n",
              "      height: 32px;\n",
              "      padding: 0 0 0 0;\n",
              "      width: 32px;\n",
              "    }\n",
              "\n",
              "    .colab-df-convert:hover {\n",
              "      background-color: #E2EBFA;\n",
              "      box-shadow: 0px 1px 2px rgba(60, 64, 67, 0.3), 0px 1px 3px 1px rgba(60, 64, 67, 0.15);\n",
              "      fill: #174EA6;\n",
              "    }\n",
              "\n",
              "    [theme=dark] .colab-df-convert {\n",
              "      background-color: #3B4455;\n",
              "      fill: #D2E3FC;\n",
              "    }\n",
              "\n",
              "    [theme=dark] .colab-df-convert:hover {\n",
              "      background-color: #434B5C;\n",
              "      box-shadow: 0px 1px 3px 1px rgba(0, 0, 0, 0.15);\n",
              "      filter: drop-shadow(0px 1px 2px rgba(0, 0, 0, 0.3));\n",
              "      fill: #FFFFFF;\n",
              "    }\n",
              "  </style>\n",
              "\n",
              "      <script>\n",
              "        const buttonEl =\n",
              "          document.querySelector('#df-79f01ce9-d4f6-400a-9407-dcc8367e54cc button.colab-df-convert');\n",
              "        buttonEl.style.display =\n",
              "          google.colab.kernel.accessAllowed ? 'block' : 'none';\n",
              "\n",
              "        async function convertToInteractive(key) {\n",
              "          const element = document.querySelector('#df-79f01ce9-d4f6-400a-9407-dcc8367e54cc');\n",
              "          const dataTable =\n",
              "            await google.colab.kernel.invokeFunction('convertToInteractive',\n",
              "                                                     [key], {});\n",
              "          if (!dataTable) return;\n",
              "\n",
              "          const docLinkHtml = 'Like what you see? Visit the ' +\n",
              "            '<a target=\"_blank\" href=https://colab.research.google.com/notebooks/data_table.ipynb>data table notebook</a>'\n",
              "            + ' to learn more about interactive tables.';\n",
              "          element.innerHTML = '';\n",
              "          dataTable['output_type'] = 'display_data';\n",
              "          await google.colab.output.renderOutput(dataTable, element);\n",
              "          const docLink = document.createElement('div');\n",
              "          docLink.innerHTML = docLinkHtml;\n",
              "          element.appendChild(docLink);\n",
              "        }\n",
              "      </script>\n",
              "    </div>\n",
              "  </div>\n",
              "  "
            ]
          },
          "metadata": {},
          "execution_count": 81
        }
      ]
    },
    {
      "cell_type": "code",
      "source": [
        "#mengecek data yang berisi null/data kosong\n",
        "df.isna().sum()"
      ],
      "metadata": {
        "colab": {
          "base_uri": "https://localhost:8080/",
          "height": 0
        },
        "id": "tNHjS7pFsa3-",
        "outputId": "f4b9d299-fd74-43c9-a6c5-fb72e6c53ddb"
      },
      "execution_count": 82,
      "outputs": [
        {
          "output_type": "execute_result",
          "data": {
            "text/plain": [
              "Country                         0\n",
              "Alcoholic Beverages             0\n",
              "Animal Products                 0\n",
              "Animal fats                     0\n",
              "Aquatic Products, Other         0\n",
              "Cereals - Excluding Beer        0\n",
              "Eggs                            0\n",
              "Fish, Seafood                   0\n",
              "Fruits - Excluding Wine         0\n",
              "Meat                            0\n",
              "Miscellaneous                   0\n",
              "Milk - Excluding Butter         0\n",
              "Offals                          0\n",
              "Oilcrops                        0\n",
              "Pulses                          0\n",
              "Spices                          0\n",
              "Starchy Roots                   0\n",
              "Stimulants                      0\n",
              "Sugar Crops                     0\n",
              "Sugar & Sweeteners              0\n",
              "Treenuts                        0\n",
              "Vegetal Products                0\n",
              "Vegetable Oils                  0\n",
              "Vegetables                      0\n",
              "Obesity                         3\n",
              "Undernourished                  7\n",
              "Confirmed                       6\n",
              "Deaths                          6\n",
              "Recovered                       6\n",
              "Active                          8\n",
              "Population                      0\n",
              "Unit (all except Population)    0\n",
              "dtype: int64"
            ]
          },
          "metadata": {},
          "execution_count": 82
        }
      ]
    },
    {
      "cell_type": "code",
      "source": [
        "#menghaps data kosong\n",
        "df.dropna(inplace=True)\n",
        "df.isnull().sum()"
      ],
      "metadata": {
        "colab": {
          "base_uri": "https://localhost:8080/",
          "height": 0
        },
        "id": "f42uvAJqsrra",
        "outputId": "53f38e24-e925-453c-f336-f776a9eb74dd"
      },
      "execution_count": 84,
      "outputs": [
        {
          "output_type": "execute_result",
          "data": {
            "text/plain": [
              "Country                         0\n",
              "Alcoholic Beverages             0\n",
              "Animal Products                 0\n",
              "Animal fats                     0\n",
              "Aquatic Products, Other         0\n",
              "Cereals - Excluding Beer        0\n",
              "Eggs                            0\n",
              "Fish, Seafood                   0\n",
              "Fruits - Excluding Wine         0\n",
              "Meat                            0\n",
              "Miscellaneous                   0\n",
              "Milk - Excluding Butter         0\n",
              "Offals                          0\n",
              "Oilcrops                        0\n",
              "Pulses                          0\n",
              "Spices                          0\n",
              "Starchy Roots                   0\n",
              "Stimulants                      0\n",
              "Sugar Crops                     0\n",
              "Sugar & Sweeteners              0\n",
              "Treenuts                        0\n",
              "Vegetal Products                0\n",
              "Vegetable Oils                  0\n",
              "Vegetables                      0\n",
              "Obesity                         0\n",
              "Undernourished                  0\n",
              "Confirmed                       0\n",
              "Deaths                          0\n",
              "Recovered                       0\n",
              "Active                          0\n",
              "Population                      0\n",
              "Unit (all except Population)    0\n",
              "dtype: int64"
            ]
          },
          "metadata": {},
          "execution_count": 84
        }
      ]
    },
    {
      "cell_type": "code",
      "source": [
        "#mengambil kolom yang akan dianalisis dan membuang kolom yang tidak dibutuhkan\n",
        "cdf = df[['Obesity', 'Deaths']]\n",
        "cdf.head(9)"
      ],
      "metadata": {
        "colab": {
          "base_uri": "https://localhost:8080/",
          "height": 331
        },
        "id": "BRJfHSJvoR-1",
        "outputId": "b870ce28-f58b-4575-9377-b5a0626bb76b"
      },
      "execution_count": 86,
      "outputs": [
        {
          "output_type": "execute_result",
          "data": {
            "text/plain": [
              "   Obesity    Deaths\n",
              "0      4.5  0.006186\n",
              "1     22.3  0.050951\n",
              "2     26.6  0.006558\n",
              "3      6.8  0.001461\n",
              "5     28.5  0.108227\n",
              "6     20.9  0.105345\n",
              "7     30.4  0.003530\n",
              "8     21.9  0.089679\n",
              "9     19.9  0.031223"
            ],
            "text/html": [
              "\n",
              "  <div id=\"df-4d58d5b3-14cf-45b5-abda-baea78d6f3f0\">\n",
              "    <div class=\"colab-df-container\">\n",
              "      <div>\n",
              "<style scoped>\n",
              "    .dataframe tbody tr th:only-of-type {\n",
              "        vertical-align: middle;\n",
              "    }\n",
              "\n",
              "    .dataframe tbody tr th {\n",
              "        vertical-align: top;\n",
              "    }\n",
              "\n",
              "    .dataframe thead th {\n",
              "        text-align: right;\n",
              "    }\n",
              "</style>\n",
              "<table border=\"1\" class=\"dataframe\">\n",
              "  <thead>\n",
              "    <tr style=\"text-align: right;\">\n",
              "      <th></th>\n",
              "      <th>Obesity</th>\n",
              "      <th>Deaths</th>\n",
              "    </tr>\n",
              "  </thead>\n",
              "  <tbody>\n",
              "    <tr>\n",
              "      <th>0</th>\n",
              "      <td>4.5</td>\n",
              "      <td>0.006186</td>\n",
              "    </tr>\n",
              "    <tr>\n",
              "      <th>1</th>\n",
              "      <td>22.3</td>\n",
              "      <td>0.050951</td>\n",
              "    </tr>\n",
              "    <tr>\n",
              "      <th>2</th>\n",
              "      <td>26.6</td>\n",
              "      <td>0.006558</td>\n",
              "    </tr>\n",
              "    <tr>\n",
              "      <th>3</th>\n",
              "      <td>6.8</td>\n",
              "      <td>0.001461</td>\n",
              "    </tr>\n",
              "    <tr>\n",
              "      <th>5</th>\n",
              "      <td>28.5</td>\n",
              "      <td>0.108227</td>\n",
              "    </tr>\n",
              "    <tr>\n",
              "      <th>6</th>\n",
              "      <td>20.9</td>\n",
              "      <td>0.105345</td>\n",
              "    </tr>\n",
              "    <tr>\n",
              "      <th>7</th>\n",
              "      <td>30.4</td>\n",
              "      <td>0.003530</td>\n",
              "    </tr>\n",
              "    <tr>\n",
              "      <th>8</th>\n",
              "      <td>21.9</td>\n",
              "      <td>0.089679</td>\n",
              "    </tr>\n",
              "    <tr>\n",
              "      <th>9</th>\n",
              "      <td>19.9</td>\n",
              "      <td>0.031223</td>\n",
              "    </tr>\n",
              "  </tbody>\n",
              "</table>\n",
              "</div>\n",
              "      <button class=\"colab-df-convert\" onclick=\"convertToInteractive('df-4d58d5b3-14cf-45b5-abda-baea78d6f3f0')\"\n",
              "              title=\"Convert this dataframe to an interactive table.\"\n",
              "              style=\"display:none;\">\n",
              "        \n",
              "  <svg xmlns=\"http://www.w3.org/2000/svg\" height=\"24px\"viewBox=\"0 0 24 24\"\n",
              "       width=\"24px\">\n",
              "    <path d=\"M0 0h24v24H0V0z\" fill=\"none\"/>\n",
              "    <path d=\"M18.56 5.44l.94 2.06.94-2.06 2.06-.94-2.06-.94-.94-2.06-.94 2.06-2.06.94zm-11 1L8.5 8.5l.94-2.06 2.06-.94-2.06-.94L8.5 2.5l-.94 2.06-2.06.94zm10 10l.94 2.06.94-2.06 2.06-.94-2.06-.94-.94-2.06-.94 2.06-2.06.94z\"/><path d=\"M17.41 7.96l-1.37-1.37c-.4-.4-.92-.59-1.43-.59-.52 0-1.04.2-1.43.59L10.3 9.45l-7.72 7.72c-.78.78-.78 2.05 0 2.83L4 21.41c.39.39.9.59 1.41.59.51 0 1.02-.2 1.41-.59l7.78-7.78 2.81-2.81c.8-.78.8-2.07 0-2.86zM5.41 20L4 18.59l7.72-7.72 1.47 1.35L5.41 20z\"/>\n",
              "  </svg>\n",
              "      </button>\n",
              "      \n",
              "  <style>\n",
              "    .colab-df-container {\n",
              "      display:flex;\n",
              "      flex-wrap:wrap;\n",
              "      gap: 12px;\n",
              "    }\n",
              "\n",
              "    .colab-df-convert {\n",
              "      background-color: #E8F0FE;\n",
              "      border: none;\n",
              "      border-radius: 50%;\n",
              "      cursor: pointer;\n",
              "      display: none;\n",
              "      fill: #1967D2;\n",
              "      height: 32px;\n",
              "      padding: 0 0 0 0;\n",
              "      width: 32px;\n",
              "    }\n",
              "\n",
              "    .colab-df-convert:hover {\n",
              "      background-color: #E2EBFA;\n",
              "      box-shadow: 0px 1px 2px rgba(60, 64, 67, 0.3), 0px 1px 3px 1px rgba(60, 64, 67, 0.15);\n",
              "      fill: #174EA6;\n",
              "    }\n",
              "\n",
              "    [theme=dark] .colab-df-convert {\n",
              "      background-color: #3B4455;\n",
              "      fill: #D2E3FC;\n",
              "    }\n",
              "\n",
              "    [theme=dark] .colab-df-convert:hover {\n",
              "      background-color: #434B5C;\n",
              "      box-shadow: 0px 1px 3px 1px rgba(0, 0, 0, 0.15);\n",
              "      filter: drop-shadow(0px 1px 2px rgba(0, 0, 0, 0.3));\n",
              "      fill: #FFFFFF;\n",
              "    }\n",
              "  </style>\n",
              "\n",
              "      <script>\n",
              "        const buttonEl =\n",
              "          document.querySelector('#df-4d58d5b3-14cf-45b5-abda-baea78d6f3f0 button.colab-df-convert');\n",
              "        buttonEl.style.display =\n",
              "          google.colab.kernel.accessAllowed ? 'block' : 'none';\n",
              "\n",
              "        async function convertToInteractive(key) {\n",
              "          const element = document.querySelector('#df-4d58d5b3-14cf-45b5-abda-baea78d6f3f0');\n",
              "          const dataTable =\n",
              "            await google.colab.kernel.invokeFunction('convertToInteractive',\n",
              "                                                     [key], {});\n",
              "          if (!dataTable) return;\n",
              "\n",
              "          const docLinkHtml = 'Like what you see? Visit the ' +\n",
              "            '<a target=\"_blank\" href=https://colab.research.google.com/notebooks/data_table.ipynb>data table notebook</a>'\n",
              "            + ' to learn more about interactive tables.';\n",
              "          element.innerHTML = '';\n",
              "          dataTable['output_type'] = 'display_data';\n",
              "          await google.colab.output.renderOutput(dataTable, element);\n",
              "          const docLink = document.createElement('div');\n",
              "          docLink.innerHTML = docLinkHtml;\n",
              "          element.appendChild(docLink);\n",
              "        }\n",
              "      </script>\n",
              "    </div>\n",
              "  </div>\n",
              "  "
            ]
          },
          "metadata": {},
          "execution_count": 86
        }
      ]
    },
    {
      "cell_type": "code",
      "source": [
        "#menghapus data kosong\n",
        "cdf.dropna(inplace=True)\n",
        "cdf.isnull().sum()"
      ],
      "metadata": {
        "colab": {
          "base_uri": "https://localhost:8080/",
          "height": 0
        },
        "id": "5nHjZfEVt8WL",
        "outputId": "08ae1fbe-46b2-4c4f-fb43-554f31dd228d"
      },
      "execution_count": 88,
      "outputs": [
        {
          "output_type": "stream",
          "name": "stderr",
          "text": [
            "/usr/local/lib/python3.7/dist-packages/pandas/util/_decorators.py:311: SettingWithCopyWarning: \n",
            "A value is trying to be set on a copy of a slice from a DataFrame\n",
            "\n",
            "See the caveats in the documentation: https://pandas.pydata.org/pandas-docs/stable/user_guide/indexing.html#returning-a-view-versus-a-copy\n",
            "  return func(*args, **kwargs)\n"
          ]
        },
        {
          "output_type": "execute_result",
          "data": {
            "text/plain": [
              "Obesity    0\n",
              "Deaths     0\n",
              "dtype: int64"
            ]
          },
          "metadata": {},
          "execution_count": 88
        }
      ]
    },
    {
      "cell_type": "markdown",
      "source": [
        "# Plot hubungan antara kedua variabel"
      ],
      "metadata": {
        "id": "kG3Ci2oxqlFB"
      }
    },
    {
      "cell_type": "code",
      "source": [
        "#membuat plot hubungan\n",
        "plt.scatter(train.Obesity, train.Deaths,  color='blue')\n",
        "plt.xlabel(\"Obesitas\")\n",
        "plt.ylabel(\"Kematian\")\n",
        "plt.show()"
      ],
      "metadata": {
        "colab": {
          "base_uri": "https://localhost:8080/",
          "height": 278
        },
        "id": "ft0DrEdxxzPx",
        "outputId": "08f2b623-2a22-4cff-85df-915cd99e3399"
      },
      "execution_count": 89,
      "outputs": [
        {
          "output_type": "display_data",
          "data": {
            "text/plain": [
              "<Figure size 432x288 with 1 Axes>"
            ],
            "image/png": "[encoded data removed]"
          },
          "metadata": {
            "needs_background": "light"
          }
        }
      ]
    },
    {
      "cell_type": "markdown",
      "source": [
        "# Membagi Data / *Data Splitting*"
      ],
      "metadata": {
        "id": "6O6z4355qotp"
      }
    },
    {
      "cell_type": "code",
      "source": [
        "#membagi data\n",
        "msk = np.random.rand(len(df)) < 0.8\n",
        "train = cdf[msk]\n",
        "test = cdf[~msk]"
      ],
      "metadata": {
        "id": "-Gl95lxyu_YT"
      },
      "execution_count": 90,
      "outputs": []
    },
    {
      "cell_type": "markdown",
      "source": [
        "# Model Regresi dan Evaluasi"
      ],
      "metadata": {
        "id": "0kGFrWILqyFL"
      }
    },
    {
      "cell_type": "code",
      "source": [
        "#Membuat model regresi\n",
        "from sklearn.linear_model import LinearRegression\n",
        "regr = LinearRegression()\n",
        "train_x = np.asanyarray(train[['Obesity']])\n",
        "train_y = np.asanyarray(train[['Deaths']])\n",
        "regr.fit (train_x, train_y)\n",
        "\n",
        "# Koefisien model\n",
        "print ('Coefficients: ', regr.coef_)\n",
        "print ('Intercept: ',regr.intercept_)"
      ],
      "metadata": {
        "colab": {
          "base_uri": "https://localhost:8080/",
          "height": 0
        },
        "id": "R1F0s129vCUe",
        "outputId": "83abd73d-9cce-4214-8f8f-7c82366c51b9"
      },
      "execution_count": 91,
      "outputs": [
        {
          "output_type": "stream",
          "name": "stdout",
          "text": [
            "Coefficients:  [[0.00255]]\n",
            "Intercept:  [-0.00695047]\n"
          ]
        }
      ]
    },
    {
      "cell_type": "code",
      "source": [
        "#Plot hasil regresi\n",
        "plt.scatter(train.Obesity, train.Deaths,  color='blue')\n",
        "plt.plot(train_x, regr.coef_[0][0]*train_x + regr.intercept_[0], '-r')\n",
        "plt.xlabel(\"Obesitas\")\n",
        "plt.ylabel(\"Kematian\")"
      ],
      "metadata": {
        "colab": {
          "base_uri": "https://localhost:8080/",
          "height": 296
        },
        "id": "HWBRW-NJvKjs",
        "outputId": "508a3d3e-c0f3-4e1d-d954-eab1e726c624"
      },
      "execution_count": 97,
      "outputs": [
        {
          "output_type": "execute_result",
          "data": {
            "text/plain": [
              "Text(0, 0.5, 'Kematian')"
            ]
          },
          "metadata": {},
          "execution_count": 97
        },
        {
          "output_type": "display_data",
          "data": {
            "text/plain": [
              "<Figure size 432x288 with 1 Axes>"
            ],
            "image/png": "[encoded data removed]"
          },
          "metadata": {
            "needs_background": "light"
          }
        }
      ]
    }
  ]
}